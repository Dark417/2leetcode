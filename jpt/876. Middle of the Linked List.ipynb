{
 "cells": [
  {
   "cell_type": "code",
   "execution_count": null,
   "metadata": {},
   "outputs": [],
   "source": [
    "876. Middle of the Linked List\n",
    "LinkedList, TwoPointer\n",
    "\n",
    "Given a non-empty, singly linked list with head node head, return a middle node of linked list.\n",
    "\n",
    "If there are two middle nodes, return the second middle node.\n",
    "\n",
    "Example 1:\n",
    "\n",
    "Input: [1,2,3,4,5]\n",
    "Output: Node 3 from this list (Serialization: [3,4,5])\n",
    "The returned node has value 3.  (The judge's serialization of this node is [3,4,5]).\n",
    "Note that we returned a ListNode object ans, such that:\n",
    "ans.val = 3, ans.next.val = 4, ans.next.next.val = 5, and ans.next.next.next = NULL.\n",
    "\n",
    "Example 2:\n",
    "\n",
    "Input: [1,2,3,4,5,6]\n",
    "Output: Node 4 from this list (Serialization: [4,5,6])\n",
    "Since the list has two middle nodes with values 3 and 4, we return the second one."
   ]
  },
  {
   "cell_type": "code",
   "execution_count": 1,
   "metadata": {},
   "outputs": [],
   "source": [
    "input1 = [1,2,3,4,5]\n",
    "input2 = [1,2,3,4,5,6]"
   ]
  },
  {
   "cell_type": "code",
   "execution_count": 13,
   "metadata": {},
   "outputs": [
    {
     "data": {
      "text/plain": [
       "3"
      ]
     },
     "execution_count": 13,
     "metadata": {},
     "output_type": "execute_result"
    }
   ],
   "source": [
    "6//2"
   ]
  },
  {
   "cell_type": "code",
   "execution_count": 19,
   "metadata": {},
   "outputs": [],
   "source": [
    "def midoflist(input):\n",
    "#     mid = 0\n",
    "    mid = input[len(input)//2]\n",
    "#     if len(input)%2==1:\n",
    "#         mid = input[len(input)%2 + 1]\n",
    "#     else:\n",
    "#         mid = \n",
    "    return mid"
   ]
  },
  {
   "cell_type": "code",
   "execution_count": 21,
   "metadata": {},
   "outputs": [
    {
     "data": {
      "text/plain": [
       "4"
      ]
     },
     "execution_count": 21,
     "metadata": {},
     "output_type": "execute_result"
    }
   ],
   "source": [
    "output = midoflist(input2)\n",
    "output"
   ]
  },
  {
   "cell_type": "code",
   "execution_count": null,
   "metadata": {},
   "outputs": [],
   "source": [
    "def middleNode(self, head):\n",
    "    slow = fast = head\n",
    "    while fast and fast.next:\n",
    "        slow = slow.next\n",
    "        fast = fast.next.next\n",
    "    return slow"
   ]
  },
  {
   "cell_type": "code",
   "execution_count": null,
   "metadata": {},
   "outputs": [],
   "source": [
    "class Solution:\n",
    "\tdef middleNode(self, head: ListNode) -> ListNode:\n",
    "\t\tcurrent = head      # current node will be used for iteration\n",
    "\t\tcount = 0\n",
    "\t\twhile current:      # as long as there's next node\n",
    "\t\t\tcount += 1      # count number of nodes\n",
    "\t\t\tcurrent = current.next      # and go to the next node\n",
    "\n",
    "\t\tmiddle_idx = int(count / 2)     # calculate middle index - int used for rounding it down\n",
    "\n",
    "\t\tcurrent = head      # let's start from the beginning of the list\n",
    "\t\tfor _ in range(middle_idx):     # with loop with middle_idx steps\n",
    "\t\t\tcurrent = current.next      # go further at every step as long as you reach middle node\n",
    "\n",
    "\t\treturn current      # return this node"
   ]
  },
  {
   "cell_type": "code",
   "execution_count": null,
   "metadata": {},
   "outputs": [],
   "source": [
    "class Solution(object):\n",
    "    def middleNode(self, head):\n",
    "        cnt = 0\n",
    "        mm = head\n",
    "        while head != None:\n",
    "\n",
    "            if cnt % 2 == 1:\n",
    "                mm = mm.next\n",
    "\n",
    "            head = head.next\n",
    "            cnt += 1\n",
    "\n",
    "        return mm"
   ]
  },
  {
   "cell_type": "code",
   "execution_count": null,
   "metadata": {},
   "outputs": [],
   "source": [
    "class Solution(object):\n",
    "    def middleNode(self, head):\n",
    "        \"\"\"\n",
    "        :type head: ListNode\n",
    "        :rtype: ListNode\n",
    "        \"\"\"\n",
    "        curr = head\n",
    "        count = 0\n",
    "        while curr is not None:\n",
    "            count += 1\n",
    "            curr = curr.next\n",
    "        \n",
    "        n = ListNode(-1); n.next = head\n",
    "        i, curr = 1, n\n",
    "        while i <= count/2+1:\n",
    "            curr = curr.next\n",
    "            i += 1\n",
    "        return curr"
   ]
  },
  {
   "cell_type": "code",
   "execution_count": null,
   "metadata": {},
   "outputs": [],
   "source": [
    "class Solution:\n",
    "    def middleNode(self, head: ListNode) -> ListNode:\n",
    "        count = 0\n",
    "        current = head\n",
    "        #Loop to find the number of nodes\n",
    "        while current:\n",
    "            count += 1\n",
    "            current = current.next\n",
    "        #Find the target index of middle node\n",
    "        target = count //2\n",
    "        count = 0\n",
    "        current = head\n",
    "        #Traverse from beginning until our target node and then return it\n",
    "        while count != target:\n",
    "            count += 1\n",
    "            current = current.next\n",
    "        return current"
   ]
  }
 ],
 "metadata": {
  "kernelspec": {
   "display_name": "Python 3",
   "language": "python",
   "name": "python3"
  },
  "language_info": {
   "codemirror_mode": {
    "name": "ipython",
    "version": 3
   },
   "file_extension": ".py",
   "mimetype": "text/x-python",
   "name": "python",
   "nbconvert_exporter": "python",
   "pygments_lexer": "ipython3",
   "version": "3.7.3"
  }
 },
 "nbformat": 4,
 "nbformat_minor": 2
}
