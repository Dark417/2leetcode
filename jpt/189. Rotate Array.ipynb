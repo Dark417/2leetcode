{
 "cells": [
  {
   "cell_type": "code",
   "execution_count": 42,
   "metadata": {},
   "outputs": [
    {
     "data": {
      "text/plain": [
       "[0, 1, 2, 3, 4, 5, 6]"
      ]
     },
     "execution_count": 42,
     "metadata": {},
     "output_type": "execute_result"
    }
   ],
   "source": [
    "a = list(range(7))\n",
    "a"
   ]
  },
  {
   "cell_type": "code",
   "execution_count": 2,
   "metadata": {},
   "outputs": [
    {
     "data": {
      "text/plain": [
       "(1, 2)"
      ]
     },
     "execution_count": 2,
     "metadata": {},
     "output_type": "execute_result"
    }
   ],
   "source": [
    "A, B = 1, 2\n",
    "a = (A, B)\n",
    "a"
   ]
  },
  {
   "cell_type": "code",
   "execution_count": 37,
   "metadata": {},
   "outputs": [],
   "source": [
    "def rtt(nums, k):\n",
    "    a = nums[-k:]\n",
    "    print(a)\n",
    "    b = nums[:-k]\n",
    "    print(b)\n",
    "    c = a + b\n",
    "    return c"
   ]
  },
  {
   "cell_type": "code",
   "execution_count": 48,
   "metadata": {},
   "outputs": [],
   "source": [
    "def rtt(nums, k):\n",
    "    a = nums[-k:]\n",
    "    print(a)\n",
    "    b = nums[:-k]\n",
    "    print(b)\n",
    "    nums[:] = a + b #\n",
    "    print(nums)"
   ]
  },
  {
   "cell_type": "code",
   "execution_count": 49,
   "metadata": {},
   "outputs": [
    {
     "name": "stdout",
     "output_type": "stream",
     "text": [
      "[5, 6, 0]\n",
      "[1, 2, 3, 4]\n",
      "[5, 6, 0, 1, 2, 3, 4]\n"
     ]
    }
   ],
   "source": [
    "b = rtt(a, 3)\n",
    "b"
   ]
  },
  {
   "cell_type": "code",
   "execution_count": 10,
   "metadata": {},
   "outputs": [],
   "source": [
    "class Solution:\n",
    "    # @param nums, a list of integer\n",
    "    # @param k, num of steps\n",
    "    # @return nothing, please modify the nums list in-place.\n",
    "    # %\n",
    "    def rotate(self, nums, k):\n",
    "        n = len(nums)\n",
    "        k = k % n\n",
    "        nums[:] = nums[n-k:] + nums[:n-k]\n",
    "        return nums"
   ]
  },
  {
   "cell_type": "code",
   "execution_count": 15,
   "metadata": {},
   "outputs": [
    {
     "data": {
      "text/plain": [
       "[6, 0, 1, 2, 3, 4, 5]"
      ]
     },
     "execution_count": 15,
     "metadata": {},
     "output_type": "execute_result"
    }
   ],
   "source": [
    "b = s.rotate(_, a, 2)\n",
    "b"
   ]
  },
  {
   "cell_type": "code",
   "execution_count": null,
   "metadata": {},
   "outputs": [],
   "source": [
    "# Classical 3-step array rotation:\n",
    "# reverse the first n - k elements\n",
    "# reverse the rest of them\n",
    "# reverse the entire array\n",
    "# O(n) in time, O(1) in space\n",
    "def rotate(self, nums, k):\n",
    "        if k is None or k <= 0: #None, Null, not\n",
    "            return\n",
    "        k, end = k % len(nums), len(nums) - 1\n",
    "        self.reverse(nums, 0, end - k)\n",
    "        self.reverse(nums, end - k + 1, end)\n",
    "        self.reverse(nums, 0, end)\n",
    "        \n",
    "    def reverse(self, nums, start, end):\n",
    "        while start < end:\n",
    "            nums[start], nums[end] = nums[end], nums[start]\n",
    "            start, end = start + 1, end - 1"
   ]
  },
  {
   "cell_type": "code",
   "execution_count": null,
   "metadata": {},
   "outputs": [],
   "source": [
    "# Rotate k times:\n",
    "# Each rotation, we move the n - 1 to the back of the array \n",
    "# one by one and we do rotation k times.\n",
    "# O(n^2) in time, O(1) in space\n",
    "\n",
    "class Solution(object):\n",
    "    def rotate(self, nums, k):\n",
    "        k = k % len(nums)\n",
    "        for i in xrange(0, k):\n",
    "            tmp = nums[-1]\n",
    "            for j in xrange(0, len(nums) - 1):\n",
    "                nums[len(nums) - 1 - j] = nums[len(nums) - 2 - j]\n",
    "            nums[0] = tmp"
   ]
  },
  {
   "cell_type": "code",
   "execution_count": null,
   "metadata": {},
   "outputs": [],
   "source": [
    "# Recursive solution\n",
    "# put the shorter part in the correct position then do the rest of them iteratively. \n",
    "# This is not necessarily to be a recursive solution.\n",
    "# O(n) in time, O(n) in space\n",
    "\n",
    "class Solution(object):\n",
    "    def rotate(self, nums, k):\n",
    "        self.helper(0, len(nums) - 1 - (k % len(nums)), len(nums) - 1, nums) # mid belongs to left part\n",
    "\n",
    "    def helper(self, start, mid, end, nums):\n",
    "        left, right = mid - start, end - mid - 1\n",
    "        if left < 0 or right < 0:\n",
    "            return\n",
    "        if left > right:\n",
    "            for j in xrange(mid + 1, end + 1):\n",
    "                nums[j], nums[start] = nums[start], nums[j]\n",
    "                start += 1\n",
    "            self.helper(start, mid, end, nums)\n",
    "        elif right >= left:\n",
    "            i = mid\n",
    "            while i >= start:\n",
    "                nums[i], nums[end] = nums[end], nums[i]\n",
    "                i, end = i - 1, end - 1\n",
    "            if left != right:\n",
    "                self.helper(start, mid, end, nums)"
   ]
  },
  {
   "cell_type": "code",
   "execution_count": null,
   "metadata": {},
   "outputs": [],
   "source": [
    "# Iterative and improved solution:\n",
    "# put the last k elements in correct position (ahead) \n",
    "# and do the remaining n - k. Once finish swap, the n and k decrease.\n",
    "# O(n) in time, O(1) in space\n",
    "\n",
    "class Solution(object):\n",
    "    def rotate(self, nums, k):\n",
    "        \"\"\"\n",
    "        :type nums: List[int]\n",
    "        :type k: int\n",
    "        :rtype: void Do not return anything, modify nums in-place instead.\n",
    "        \"\"\"\n",
    "        n, k, j = len(nums), k % len(nums), 0\n",
    "        while n > 0 and k % n != 0:\n",
    "            for i in xrange(0, k):\n",
    "                nums[j + i], nums[len(nums) - k + i] = nums[len(nums) - k + i], nums[j + i] # swap\n",
    "            n, j = n - k, j + k\n",
    "            k = k % n\n"
   ]
  },
  {
   "cell_type": "code",
   "execution_count": null,
   "metadata": {},
   "outputs": [],
   "source": [
    "class Solution(object):\n",
    "    def rotate(self, nums, k):\n",
    "        \"\"\"\n",
    "        :type nums: List[int]\n",
    "        :type k: int\n",
    "        :rtype: void Do not return anything, modify nums in-place instead.\n",
    "        \"\"\"\n",
    "        k=k%len(nums)\n",
    "        if k==0:\n",
    "            return\n",
    "        first=nums[:-k]\n",
    "        second=nums[-k:]\n",
    "        for i in range(k):\n",
    "            nums[i]=second[i]\n",
    "        for i in range(k,len(nums)):\n",
    "            nums[i]=first[i-k]"
   ]
  },
  {
   "cell_type": "code",
   "execution_count": null,
   "metadata": {},
   "outputs": [],
   "source": [
    "# slow due to insert/pop\n",
    "class Solution:\n",
    "    def rotate(self, nums, k):\n",
    "        while k > 0:\n",
    "            nums.insert(0, nums.pop())\n",
    "            k -= 1"
   ]
  },
  {
   "cell_type": "code",
   "execution_count": null,
   "metadata": {},
   "outputs": [],
   "source": [
    "from collections import deque\n",
    "\n",
    "class Solution:\n",
    "    def rotate(self, nums, k):\n",
    "        d = deque(nums)\n",
    "        d.rotate(k)\n",
    "        nums[:] = list(d)"
   ]
  }
 ],
 "metadata": {
  "kernelspec": {
   "display_name": "Python 3",
   "language": "python",
   "name": "python3"
  },
  "language_info": {
   "codemirror_mode": {
    "name": "ipython",
    "version": 3
   },
   "file_extension": ".py",
   "mimetype": "text/x-python",
   "name": "python",
   "nbconvert_exporter": "python",
   "pygments_lexer": "ipython3",
   "version": "3.7.3"
  }
 },
 "nbformat": 4,
 "nbformat_minor": 2
}
