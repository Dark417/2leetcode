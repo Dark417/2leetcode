{
 "cells": [
  {
   "cell_type": "code",
   "execution_count": null,
   "metadata": {},
   "outputs": [],
   "source": [
    "832. Flipping an Image\n",
    "\n",
    "Given a binary matrix A, we want to flip the image horizontally, \n",
    "then invert it, and return the resulting image."
   ]
  },
  {
   "cell_type": "code",
   "execution_count": 11,
   "metadata": {},
   "outputs": [],
   "source": [
    "input1 = [[1,1,0],[1,0,1],[0,0,0]]\n",
    "input2 = [[1,1,0,0],[1,0,0,1],[0,1,1,1],[1,0,1,0]]"
   ]
  },
  {
   "cell_type": "code",
   "execution_count": 3,
   "metadata": {},
   "outputs": [
    {
     "data": {
      "text/plain": [
       "1"
      ]
     },
     "execution_count": 3,
     "metadata": {},
     "output_type": "execute_result"
    }
   ],
   "source": [
    "a = list(range(5))\n",
    "mid = len(a) // 2 - 1\n",
    "mid"
   ]
  },
  {
   "cell_type": "code",
   "execution_count": 16,
   "metadata": {},
   "outputs": [],
   "source": [
    "def flip(A):\n",
    "    \n",
    "    for i in A:\n",
    "#         reverse\n",
    "        if len(i)%2 == 1:\n",
    "            mid = len(i) // 2 - 1\n",
    "            start = 0\n",
    "            end = len(i) - 1\n",
    "            \n",
    "            while start <= mid:\n",
    "                i[start], i[end] = i[end], i[start]\n",
    "                start += 1\n",
    "                end -= 1\n",
    "            \n",
    "        \n",
    "#         else:\n",
    "            \n",
    "            \n",
    "    \n",
    "#     for i in A:\n",
    "#         for j in i:\n",
    "#             j = 0 if j==1 else 0\n",
    "    \n",
    "    return A"
   ]
  },
  {
   "cell_type": "code",
   "execution_count": 17,
   "metadata": {},
   "outputs": [
    {
     "data": {
      "text/plain": [
       "[[0, 0, 0], [1, 0, 1], [1, 1, 0]]"
      ]
     },
     "execution_count": 17,
     "metadata": {},
     "output_type": "execute_result"
    }
   ],
   "source": [
    "output1 = flip(input1)\n",
    "output1"
   ]
  },
  {
   "cell_type": "code",
   "execution_count": null,
   "metadata": {},
   "outputs": [],
   "source": []
  }
 ],
 "metadata": {
  "kernelspec": {
   "display_name": "Python 3",
   "language": "python",
   "name": "python3"
  },
  "language_info": {
   "codemirror_mode": {
    "name": "ipython",
    "version": 3
   },
   "file_extension": ".py",
   "mimetype": "text/x-python",
   "name": "python",
   "nbconvert_exporter": "python",
   "pygments_lexer": "ipython3",
   "version": "3.7.3"
  }
 },
 "nbformat": 4,
 "nbformat_minor": 2
}
