{
 "cells": [
  {
   "cell_type": "code",
   "execution_count": null,
   "metadata": {},
   "outputs": [],
   "source": [
    "\"(()())(())\""
   ]
  },
  {
   "cell_type": "code",
   "execution_count": null,
   "metadata": {},
   "outputs": [],
   "source": [
    "'(()())(())(()(()))'"
   ]
  },
  {
   "cell_type": "code",
   "execution_count": 8,
   "metadata": {},
   "outputs": [
    {
     "name": "stdout",
     "output_type": "stream",
     "text": [
      "(\n",
      "0\n",
      ")\n",
      "1\n",
      "(\n",
      "0\n",
      ")\n",
      "1\n"
     ]
    },
    {
     "data": {
      "text/plain": [
       "'()()'"
      ]
     },
     "execution_count": 8,
     "metadata": {},
     "output_type": "execute_result"
    }
   ],
   "source": [
    "str2 = '()()'\n",
    "for i in str2:\n",
    "    print(i)\n",
    "    print(str2.index(i))\n",
    "    if i == '(':\n",
    "        str1.replace(i, '')\n",
    "#     for str1.index(i) in str1:\n",
    "#         print(str1[str1.index(i)])\n",
    "str2"
   ]
  },
  {
   "cell_type": "code",
   "execution_count": 61,
   "metadata": {},
   "outputs": [
    {
     "name": "stdout",
     "output_type": "stream",
     "text": [
      "rw\n"
     ]
    }
   ],
   "source": [
    "a = ''\n",
    "if not a:\n",
    "    print('rw')"
   ]
  },
  {
   "cell_type": "code",
   "execution_count": null,
   "metadata": {},
   "outputs": [],
   "source": [
    "'''\n",
    "if empty, return\n",
    "for i in s:\n",
    "    if i == (:\n",
    "        for i+1 in s:\n",
    "            if i+1 ==):\n",
    "                \n",
    "\n",
    "'''"
   ]
  },
  {
   "cell_type": "code",
   "execution_count": null,
   "metadata": {},
   "outputs": [],
   "source": [
    "'''\n",
    "idx = []\n",
    "outter = 0\n",
    "if empty, return\n",
    "\n",
    "for i in s:\n",
    "    if i == '(':\n",
    "        if otter == 0:\n",
    "            idx\n",
    "            \n",
    "        else:\n",
    "            \n",
    "\n",
    "'''"
   ]
  },
  {
   "cell_type": "code",
   "execution_count": 57,
   "metadata": {},
   "outputs": [],
   "source": [
    "def rmm(s):\n",
    "    outter = 0\n",
    "    x = ''\n",
    "    \n",
    "    for i in s:\n",
    "        if i == '(' and outter > 0:\n",
    "            x += i\n",
    "            outter += 1\n",
    "        if i == ')' and outter > 1:\n",
    "            x += i\n",
    "            outter -= 1\n",
    "        outter += 1 if i == '(' else -1\n",
    "            \n",
    "            \n",
    "    return x\n",
    "            "
   ]
  },
  {
   "cell_type": "code",
   "execution_count": 58,
   "metadata": {},
   "outputs": [
    {
     "data": {
      "text/plain": [
       "'()'"
      ]
     },
     "execution_count": 58,
     "metadata": {},
     "output_type": "execute_result"
    }
   ],
   "source": [
    "s = '()(())'\n",
    "xx = rmm(s)\n",
    "xx"
   ]
  },
  {
   "cell_type": "code",
   "execution_count": 23,
   "metadata": {},
   "outputs": [],
   "source": [
    "def rmp(s):\n",
    "    idx = []\n",
    "    outter = 0\n",
    "    \n",
    "    x = ''\n",
    "    \n",
    "    else:\n",
    "        for i in s:\n",
    "            if i == '(':\n",
    "                if outter > 0:\n",
    "                    idx.append(i)\n",
    "                else:\n",
    "                    idx.append(0)\n",
    "                outter += 1\n",
    "                \n",
    "            else:\n",
    "                if outter == 1:\n",
    "                    idx.append(1)\n",
    "                else:\n",
    "                    idx.append(0)\n",
    "                outter -= 1\n",
    "    rmd = ''           \n",
    "    for i in idx:\n",
    "        if \n",
    "        \n",
    "    return idx\n",
    "                "
   ]
  },
  {
   "cell_type": "code",
   "execution_count": 24,
   "metadata": {},
   "outputs": [],
   "source": [
    "s = '()(())'"
   ]
  },
  {
   "cell_type": "code",
   "execution_count": 30,
   "metadata": {
    "scrolled": true
   },
   "outputs": [
    {
     "data": {
      "text/plain": [
       "[1, 1, 1, 0, 0, 1]"
      ]
     },
     "execution_count": 30,
     "metadata": {},
     "output_type": "execute_result"
    }
   ],
   "source": [
    "b = rmp(s)\n",
    "b"
   ]
  },
  {
   "cell_type": "code",
   "execution_count": 32,
   "metadata": {},
   "outputs": [
    {
     "ename": "SyntaxError",
     "evalue": "invalid syntax (<ipython-input-32-3ff8db967365>, line 1)",
     "output_type": "error",
     "traceback": [
      "\u001b[0;36m  File \u001b[0;32m\"<ipython-input-32-3ff8db967365>\"\u001b[0;36m, line \u001b[0;32m1\u001b[0m\n\u001b[0;31m    [x if x == 1 for x in b]\u001b[0m\n\u001b[0m                   ^\u001b[0m\n\u001b[0;31mSyntaxError\u001b[0m\u001b[0;31m:\u001b[0m invalid syntax\n"
     ]
    }
   ],
   "source": [
    "[x if x == 1 for x in b]"
   ]
  },
  {
   "cell_type": "code",
   "execution_count": null,
   "metadata": {},
   "outputs": [],
   "source": [
    "rst = rmp(s)\n",
    "rst"
   ]
  }
 ],
 "metadata": {
  "kernelspec": {
   "display_name": "Python 3",
   "language": "python",
   "name": "python3"
  },
  "language_info": {
   "codemirror_mode": {
    "name": "ipython",
    "version": 3
   },
   "file_extension": ".py",
   "mimetype": "text/x-python",
   "name": "python",
   "nbconvert_exporter": "python",
   "pygments_lexer": "ipython3",
   "version": "3.7.3"
  }
 },
 "nbformat": 4,
 "nbformat_minor": 2
}
