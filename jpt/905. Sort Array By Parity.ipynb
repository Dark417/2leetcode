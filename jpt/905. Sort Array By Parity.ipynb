{
 "cells": [
  {
   "cell_type": "code",
   "execution_count": null,
   "metadata": {},
   "outputs": [],
   "source": [
    "905. Sort Array By Parity\n",
    "\n",
    "Given an array A of non-negative integers, return an array consisting of all the even elements of A, followed by all the odd elements of A.\n",
    "\n",
    "You may return any answer array that satisfies this condition."
   ]
  },
  {
   "cell_type": "code",
   "execution_count": 5,
   "metadata": {},
   "outputs": [
    {
     "name": "stdout",
     "output_type": "stream",
     "text": [
      "rua\n"
     ]
    }
   ],
   "source": [
    "if 3 % 2 == 1:\n",
    "    print('rua')"
   ]
  },
  {
   "cell_type": "code",
   "execution_count": 24,
   "metadata": {},
   "outputs": [],
   "source": [
    "input = [3,1,2,4]"
   ]
  },
  {
   "cell_type": "code",
   "execution_count": 7,
   "metadata": {},
   "outputs": [],
   "source": [
    "def sortbyp(A):\n",
    "    even = []\n",
    "    odd = []\n",
    "    for i in A:\n",
    "        md = i % 2\n",
    "        if md == 0:\n",
    "            even.append(i)\n",
    "        else:\n",
    "            odd.append(i)\n",
    "    B = even + odd\n",
    "    return B"
   ]
  },
  {
   "cell_type": "code",
   "execution_count": 25,
   "metadata": {},
   "outputs": [],
   "source": [
    "def sortbyp(A):\n",
    "    \n",
    "    pivot = 0\n",
    "    bp = len(A)-1\n",
    "    swap = 0\n",
    "    \n",
    "    while pivot + 1 < bp:\n",
    "        \n",
    "        if A[pivot] % 2 == 1:\n",
    "            \n",
    "            if A[bp] % 2 == 0:\n",
    "                swap = A[bp]\n",
    "                A[bp] = A[pivot]\n",
    "                A[pivot] = swap\n",
    "                bp -= 1\n",
    "            else:\n",
    "                bp -= 1\n",
    "                \n",
    "        else:\n",
    "            pivot += 1\n",
    "    \n",
    "    return A"
   ]
  },
  {
   "cell_type": "code",
   "execution_count": 26,
   "metadata": {
    "scrolled": true
   },
   "outputs": [
    {
     "data": {
      "text/plain": [
       "[4, 1, 2, 3]"
      ]
     },
     "execution_count": 26,
     "metadata": {},
     "output_type": "execute_result"
    }
   ],
   "source": [
    "output = sortbyp(input)\n",
    "output"
   ]
  },
  {
   "cell_type": "code",
   "execution_count": null,
   "metadata": {},
   "outputs": [],
   "source": [
    "def sortArrayByParity(self, A):\n",
    "        \"\"\"\n",
    "        :type A: List[int]\n",
    "        :rtype: List[int]\n",
    "        \"\"\"\n",
    "        start = 0\n",
    "        end = len(A) - 1\n",
    "        while start < end:\n",
    "            if A[start] % 2 != 0:\n",
    "                odd = A[start]\n",
    "                A[start] = A[end]\n",
    "                A[end] = odd\n",
    "                end -= 1\n",
    "            else:\n",
    "                start += 1\n",
    "        return A"
   ]
  },
  {
   "cell_type": "code",
   "execution_count": null,
   "metadata": {},
   "outputs": [],
   "source": [
    "def sortArrayByParity(self, A):\n",
    "    \"\"\"\n",
    "    :type A: List[int]\n",
    "    :rtype: List[int]\n",
    "    \"\"\"\n",
    "    size = len(A)\n",
    "    res = [None] * size\n",
    "    start = 0\n",
    "    end = size - 1\n",
    "    for val in A:\n",
    "        if val % 2 == 1:\n",
    "            res[end] = val\n",
    "            end = end -1\n",
    "        else:\n",
    "            res[start] = val\n",
    "            start = start + 1\n",
    "    return res"
   ]
  },
  {
   "cell_type": "code",
   "execution_count": null,
   "metadata": {},
   "outputs": [],
   "source": [
    "def sortArrayByParity(self, A):\n",
    "    \"\"\"\n",
    "    :type A: List[int]\n",
    "    :rtype: List[int]\n",
    "    \"\"\"\n",
    "    start, end = 0, len(A) - 1\n",
    "    while start < end:\n",
    "        m, n = A[start], A[end]\n",
    "        if m % 2 == 1 and n % 2 == 0:\n",
    "            A[start], A[end] = n, m\n",
    "        elif m % 2 == 1:\n",
    "            end -= 1\n",
    "        elif n % 2 == 0:\n",
    "            start += 1\n",
    "        else:\n",
    "            start += 1\n",
    "            end -= 1\n",
    "    return A"
   ]
  },
  {
   "cell_type": "code",
   "execution_count": null,
   "metadata": {},
   "outputs": [],
   "source": [
    "return sorted(A, key=lambda x: x % 2)"
   ]
  },
  {
   "cell_type": "code",
   "execution_count": null,
   "metadata": {},
   "outputs": [],
   "source": [
    "return([i for i in A if i%2==0]+[i for i in A if i%2!=0])"
   ]
  },
  {
   "cell_type": "code",
   "execution_count": null,
   "metadata": {},
   "outputs": [],
   "source": [
    "def sortArrayByParity(self, A):\n",
    "        \"\"\"\n",
    "        :type A: List[int]\n",
    "        :rtype: List[int]\n",
    "        \"\"\"\n",
    "        current = 0\n",
    "        for i, el in enumerate(A):\n",
    "            if not el % 2:\n",
    "                A[current], A[i] = A[i], A[current]\n",
    "                current = current + 1\n",
    "        return A"
   ]
  },
  {
   "cell_type": "code",
   "execution_count": null,
   "metadata": {},
   "outputs": [],
   "source": [
    "def sortArrayByParity(self, A):\n",
    "        \"\"\"\n",
    "        :type A: List[int]\n",
    "        :rtype: List[int]\n",
    "        \"\"\"\n",
    "        start = 0\n",
    "        end = len(A) - 1\n",
    "        while start < end:\n",
    "            if A[start] % 2 != 0:\n",
    "                odd = A[start]\n",
    "                A[start] = A[end]\n",
    "                A[end] = odd\n",
    "                end -= 1\n",
    "            else:\n",
    "                start += 1\n",
    "        return A"
   ]
  }
 ],
 "metadata": {
  "kernelspec": {
   "display_name": "Python 3",
   "language": "python",
   "name": "python3"
  },
  "language_info": {
   "codemirror_mode": {
    "name": "ipython",
    "version": 3
   },
   "file_extension": ".py",
   "mimetype": "text/x-python",
   "name": "python",
   "nbconvert_exporter": "python",
   "pygments_lexer": "ipython3",
   "version": "3.7.3"
  }
 },
 "nbformat": 4,
 "nbformat_minor": 2
}
